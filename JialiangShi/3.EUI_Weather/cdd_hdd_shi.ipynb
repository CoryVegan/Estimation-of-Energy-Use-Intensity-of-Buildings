{
 "cells": [
  {
   "cell_type": "code",
   "execution_count": null,
   "metadata": {
    "collapsed": true
   },
   "outputs": [],
   "source": [
    "import csv\n",
    "import pandas as pd\n",
    "import numpy as np\n",
    "import matplotlib.pyplot as plt\n",
    "%matplotlib inline"
   ]
  },
  {
   "cell_type": "code",
   "execution_count": null,
   "metadata": {
    "collapsed": true
   },
   "outputs": [],
   "source": [
    "df_HDD=pd.read_csv(\"KBOS_HDD_65F-3.csv\",encoding='latin-1')\n",
    "missing_HDD = [1203,1282,980]\n",
    "hdd_2015 = sum(missing_HDD) + sum(df_HDD['HDD'][0:9])\n",
    "hdd_2016 = sum(df_HDD['HDD'][9:21])\n",
    "hdd_2017 = sum(df_HDD['HDD'][21:33])"
   ]
  },
  {
   "cell_type": "code",
   "execution_count": null,
   "metadata": {
    "collapsed": true
   },
   "outputs": [],
   "source": [
    "df_CDD=pd.read_csv(\"KBOS_CDD_65F-3.csv\",encoding='latin-1')\n",
    "df_CDD"
   ]
  },
  {
   "cell_type": "code",
   "execution_count": null,
   "metadata": {
    "collapsed": true
   },
   "outputs": [],
   "source": [
    "cdd_2015 = sum(df_CDD['CDD'][0:9]) + sum([0,0,0])\n",
    "cdd_2016 = sum(df_CDD['CDD'][9:21])\n",
    "cdd_2017 = sum(df_CDD['CDD'][21:33])"
   ]
  },
  {
   "cell_type": "code",
   "execution_count": null,
   "metadata": {
    "collapsed": true
   },
   "outputs": [],
   "source": [
    "x_axis = ['2015','2016','2017']\n",
    "x = range(len(x_axis))\n",
    "y_cdd = [cdd_2015,cdd_2016,cdd_2017]\n",
    "y_hdd = [hdd_2015,hdd_2016,hdd_2017]\n",
    "plt.plot(x, y_cdd, 'bo-')\n",
    "plt.xticks(x, x_axis, rotation=45)\n",
    "plt.margins(0.08)\n",
    "plt.subplots_adjust(bottom=0.15)\n",
    "plt.title('2015-2017 CDD')\n",
    "plt.ylabel('CDD')\n",
    "plt.show()"
   ]
  },
  {
   "cell_type": "code",
   "execution_count": null,
   "metadata": {
    "collapsed": true
   },
   "outputs": [],
   "source": [
    "plt.plot(x, y_hdd, 'ro-')\n",
    "plt.xticks(x, x_axis, rotation=45)\n",
    "plt.margins(0.08)\n",
    "plt.subplots_adjust(bottom=0.15)\n",
    "plt.title('2015-2017 HDD')\n",
    "plt.ylabel('HDD')\n",
    "plt.show()"
   ]
  }
 ],
 "metadata": {
  "kernelspec": {
   "display_name": "Python 3",
   "language": "python",
   "name": "python3"
  },
  "language_info": {
   "codemirror_mode": {
    "name": "ipython",
    "version": 3
   },
   "file_extension": ".py",
   "mimetype": "text/x-python",
   "name": "python",
   "nbconvert_exporter": "python",
   "pygments_lexer": "ipython3",
   "version": "3.6.3"
  }
 },
 "nbformat": 4,
 "nbformat_minor": 2
}
